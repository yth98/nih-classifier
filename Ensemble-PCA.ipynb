{
 "cells": [
  {
   "cell_type": "code",
   "execution_count": 1,
   "metadata": {},
   "outputs": [],
   "source": [
    "import pandas as pd\n",
    "import numpy as np"
   ]
  },
  {
   "cell_type": "code",
   "execution_count": 2,
   "metadata": {},
   "outputs": [],
   "source": [
    "preds = []\n",
    "for path in ['d121_1_5.csv', 'd121_2_9.csv', 'd121_3_9.csv', 'd121_4_9.csv']:\n",
    "    preds += [pd.read_csv(path).sort_index(axis=1)]\n",
    "\n",
    "out = [preds[0]['Id']]\n",
    "for i in range(len(preds)):\n",
    "    preds[i] = preds[i].loc[:,preds[i].columns!='Id']\n",
    "\n",
    "for i in range(14):\n",
    "    X = []\n",
    "    for pred in preds: X += [pred.iloc[:,i]]\n",
    "    X = pd.concat(X, axis=1)\n",
    "    XX = (X-X.mean()).values\n",
    "    sigma = (XX.T@XX) / len(X.index)\n",
    "    u, s, vh = np.linalg.svd(sigma)\n",
    "    pcx = np.outer(u[:,0],(u[:,0]@X.T))\n",
    "    pcl = (np.sqrt(np.sum(pcx*pcx,axis=0)))\n",
    "    pcl -= pcl.min()\n",
    "    if(pcl.max()>1): pcl /= pcl.max()\n",
    "    out += [pd.DataFrame(pcl,columns=[preds[0].columns[i]])]\n",
    "out = pd.concat(out,axis=1)\n",
    "out.to_csv('./bagPCA_d15-d29-d39-d49.csv',index=False)"
   ]
  },
  {
   "cell_type": "code",
   "execution_count": null,
   "metadata": {},
   "outputs": [],
   "source": []
  }
 ],
 "metadata": {
  "kernelspec": {
   "display_name": "Python 3",
   "language": "python",
   "name": "python3"
  },
  "language_info": {
   "codemirror_mode": {
    "name": "ipython",
    "version": 3
   },
   "file_extension": ".py",
   "mimetype": "text/x-python",
   "name": "python",
   "nbconvert_exporter": "python",
   "pygments_lexer": "ipython3",
   "version": "3.6.7"
  }
 },
 "nbformat": 4,
 "nbformat_minor": 2
}
