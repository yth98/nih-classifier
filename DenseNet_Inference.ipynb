{
 "cells": [
  {
   "cell_type": "code",
   "execution_count": null,
   "metadata": {},
   "outputs": [],
   "source": [
    "from densenet import DenseNetModel\n",
    "from dataset_batch import load_test_data\n",
    "import pandas as pd\n",
    "import numpy as np"
   ]
  },
  {
   "cell_type": "code",
   "execution_count": null,
   "metadata": {},
   "outputs": [],
   "source": [
    "def output_csv(pred, idx, disease_path = './data/ntu_final_2018/classname.txt', output_path = './output.csv'):\n",
    "    disease_name = []\n",
    "\n",
    "    with open(disease_path, 'r') as f:\n",
    "        for line in f:\n",
    "            disease_name.append(line[:-1])\n",
    "\n",
    "    # build dic\n",
    "    dic = {}\n",
    "    dic['Id'] = idx\n",
    "    for i in range(len(disease_name)):\n",
    "        dic[disease_name[i]] = pred[:,i]\n",
    "\n",
    "    df = pd.DataFrame.from_dict(dic)\n",
    "    df.to_csv(output_path, index = False)\n",
    "\n",
    "    print('Done saving at ', output_path)"
   ]
  },
  {
   "cell_type": "code",
   "execution_count": null,
   "metadata": {},
   "outputs": [],
   "source": [
    "if __name__ == \"__main__\":\n",
    "    model = DenseNetModel()\n",
    "    model.load_weight()\n",
    "\n",
    "    preds, idxs = None, None\n",
    "    for base in range(0, 1300 or 33652, 500):\n",
    "        X_test, idx = load_test_data(reshaped_size=(224,224), min_cnt=base, max_cnt=base+499)\n",
    "        model.standardize(X_test)\n",
    "        if base == 0:\n",
    "            preds = model.predict(X_test)\n",
    "            idxs = idx\n",
    "        else:\n",
    "            preds = np.concatenate((preds, model.predict(X_test)))\n",
    "            idxs = np.concatenate((idxs, idx))\n",
    "\n",
    "    print(preds.shape, idxs.shape)\n",
    "    output_csv(preds, idxs)"
   ]
  },
  {
   "cell_type": "code",
   "execution_count": null,
   "metadata": {},
   "outputs": [],
   "source": []
  }
 ],
 "metadata": {
  "kernelspec": {
   "display_name": "Python 3",
   "language": "python",
   "name": "python3"
  },
  "language_info": {
   "codemirror_mode": {
    "name": "ipython",
    "version": 3
   },
   "file_extension": ".py",
   "mimetype": "text/x-python",
   "name": "python",
   "nbconvert_exporter": "python",
   "pygments_lexer": "ipython3",
   "version": "3.6.7"
  }
 },
 "nbformat": 4,
 "nbformat_minor": 2
}
