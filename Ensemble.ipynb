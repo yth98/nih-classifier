{
 "cells": [
  {
   "cell_type": "code",
   "execution_count": 1,
   "metadata": {},
   "outputs": [],
   "source": [
    "import pandas as pd"
   ]
  },
  {
   "cell_type": "code",
   "execution_count": 2,
   "metadata": {},
   "outputs": [],
   "source": [
    "o11 = pd.read_csv('output_11.csv').sort_index(axis=1)\n",
    "o15 = pd.read_csv('output_15.csv').sort_index(axis=1)\n",
    "o21 = pd.read_csv('output_21.csv').sort_index(axis=1)\n",
    "o25 = pd.read_csv('output_25.csv').sort_index(axis=1)\n",
    "ensemble = o11.loc[:,o11.columns!='Id']*0.2 + o15.loc[:,o15.columns!='Id']*0.4 + o21.loc[:,o21.columns!='Id']*0.2 + o25.loc[:,o25.columns!='Id']*0.2\n",
    "out = pd.concat([o11['Id'],ensemble],axis=1)\n",
    "out.to_csv('./output_27.csv',index=False)"
   ]
  },
  {
   "cell_type": "code",
   "execution_count": null,
   "metadata": {},
   "outputs": [],
   "source": []
  }
 ],
 "metadata": {
  "kernelspec": {
   "display_name": "Python 3",
   "language": "python",
   "name": "python3"
  },
  "language_info": {
   "codemirror_mode": {
    "name": "ipython",
    "version": 3
   },
   "file_extension": ".py",
   "mimetype": "text/x-python",
   "name": "python",
   "nbconvert_exporter": "python",
   "pygments_lexer": "ipython3",
   "version": "3.6.7"
  }
 },
 "nbformat": 4,
 "nbformat_minor": 2
}
