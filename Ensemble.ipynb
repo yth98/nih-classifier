{
 "cells": [
  {
   "cell_type": "code",
   "execution_count": 1,
   "metadata": {},
   "outputs": [],
   "source": [
    "import pandas as pd"
   ]
  },
  {
   "cell_type": "code",
   "execution_count": 2,
   "metadata": {},
   "outputs": [],
   "source": [
    "o5 = pd.read_csv('output_5.csv').sort_index(axis=1)\n",
    "o13 = pd.read_csv('output_13.csv').sort_index(axis=1)\n",
    "o14 = pd.read_csv('output_14.csv').sort_index(axis=1)\n",
    "ensemble = o5.loc[:,o13.columns!='Id']*0.7 + o13.loc[:,o13.columns!='Id']*0.05 + o14.loc[:,o14.columns!='Id']*0.25\n",
    "out = pd.concat([o5['Id'],ensemble],axis=1)\n",
    "out.to_csv('./output_15.csv',index=False)"
   ]
  },
  {
   "cell_type": "code",
   "execution_count": null,
   "metadata": {},
   "outputs": [],
   "source": []
  }
 ],
 "metadata": {
  "kernelspec": {
   "display_name": "Python 3",
   "language": "python",
   "name": "python3"
  },
  "language_info": {
   "codemirror_mode": {
    "name": "ipython",
    "version": 3
   },
   "file_extension": ".py",
   "mimetype": "text/x-python",
   "name": "python",
   "nbconvert_exporter": "python",
   "pygments_lexer": "ipython3",
   "version": "3.6.7"
  }
 },
 "nbformat": 4,
 "nbformat_minor": 2
}
