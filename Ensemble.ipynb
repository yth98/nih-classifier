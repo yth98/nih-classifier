{
 "cells": [
  {
   "cell_type": "code",
   "execution_count": 1,
   "metadata": {},
   "outputs": [],
   "source": [
    "import pandas as pd"
   ]
  },
  {
   "cell_type": "code",
   "execution_count": 2,
   "metadata": {},
   "outputs": [],
   "source": [
    "o4  = pd.read_csv('output_4.csv').sort_index(axis=1)  # 0.70330\n",
    "o11 = pd.read_csv('output_11.csv').sort_index(axis=1) # 0.69985\n",
    "o13 = pd.read_csv('output_13.csv').sort_index(axis=1) # 0.63994\n",
    "o14 = pd.read_csv('output_14.csv').sort_index(axis=1) # 0.65078\n",
    "o19 = pd.read_csv('output_19.csv').sort_index(axis=1) # 0.68522\n",
    "o21 = pd.read_csv('output_21.csv').sort_index(axis=1) # 0.69327\n",
    "o25 = pd.read_csv('output_25.csv').sort_index(axis=1) # 0.69663\n",
    "o29 = pd.read_csv('output_29.csv').sort_index(axis=1) # 0.63566\n",
    "ensemble =  o4.loc[:, o4.columns!='Id']*0.14 + o11.loc[:,o11.columns!='Id']*0.14 \\\n",
    "         + o13.loc[:,o13.columns!='Id']*0.1  + o14.loc[:,o14.columns!='Id']*0.1  \\\n",
    "         + o19.loc[:,o19.columns!='Id']*0.14 + o21.loc[:,o21.columns!='Id']*0.14 \\\n",
    "         + o25.loc[:,o25.columns!='Id']*0.14 + o29.loc[:,o29.columns!='Id']*0.1\n",
    "out = pd.concat([o11['Id'],ensemble],axis=1)\n",
    "out.to_csv('./output_31.csv',index=False)"
   ]
  },
  {
   "cell_type": "code",
   "execution_count": null,
   "metadata": {},
   "outputs": [],
   "source": []
  }
 ],
 "metadata": {
  "kernelspec": {
   "display_name": "Python 3",
   "language": "python",
   "name": "python3"
  },
  "language_info": {
   "codemirror_mode": {
    "name": "ipython",
    "version": 3
   },
   "file_extension": ".py",
   "mimetype": "text/x-python",
   "name": "python",
   "nbconvert_exporter": "python",
   "pygments_lexer": "ipython3",
   "version": "3.6.7"
  }
 },
 "nbformat": 4,
 "nbformat_minor": 2
}
