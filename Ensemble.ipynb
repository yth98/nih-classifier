{
 "cells": [
  {
   "cell_type": "code",
   "execution_count": 1,
   "metadata": {},
   "outputs": [],
   "source": [
    "import pandas as pd"
   ]
  },
  {
   "cell_type": "code",
   "execution_count": 2,
   "metadata": {},
   "outputs": [],
   "source": [
    "o38 = pd.read_csv('output_38.csv').sort_index(axis=1) # 0.74837\n",
    "o45 = pd.read_csv('output_45.csv').sort_index(axis=1) # 0.70980\n",
    "o51 = pd.read_csv('output_51.csv').sort_index(axis=1) # 0.76232\n",
    "o55 = pd.read_csv('output_55.csv').sort_index(axis=1) # 0.71092\n",
    "ensemble = o38.loc[:,o38.columns!='Id']*0.10 + o45.loc[:,o45.columns!='Id']*0.10 \\\n",
    "         + o51.loc[:,o51.columns!='Id']*0.70 + o55.loc[:,o55.columns!='Id']*0.10\n",
    "out = pd.concat([o38['Id'],ensemble],axis=1)\n",
    "out.to_csv('./output_56.csv',index=False)"
   ]
  },
  {
   "cell_type": "code",
   "execution_count": null,
   "metadata": {},
   "outputs": [],
   "source": []
  }
 ],
 "metadata": {
  "kernelspec": {
   "display_name": "Python 3",
   "language": "python",
   "name": "python3"
  },
  "language_info": {
   "codemirror_mode": {
    "name": "ipython",
    "version": 3
   },
   "file_extension": ".py",
   "mimetype": "text/x-python",
   "name": "python",
   "nbconvert_exporter": "python",
   "pygments_lexer": "ipython3",
   "version": "3.6.7"
  }
 },
 "nbformat": 4,
 "nbformat_minor": 2
}
