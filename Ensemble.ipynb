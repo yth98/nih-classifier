{
 "cells": [
  {
   "cell_type": "code",
   "execution_count": 1,
   "metadata": {},
   "outputs": [],
   "source": [
    "import pandas as pd"
   ]
  },
  {
   "cell_type": "code",
   "execution_count": 2,
   "metadata": {},
   "outputs": [],
   "source": [
    "o31 = pd.read_csv('output_31.csv').sort_index(axis=1) # 0.74135\n",
    "o36 = pd.read_csv('output_36.csv').sort_index(axis=1) # 0.68052\n",
    "o37 = pd.read_csv('output_37.csv').sort_index(axis=1) # 0.73318\n",
    "ensemble = o31.loc[:,o31.columns!='Id']*0.55 + o36.loc[:,o36.columns!='Id']*0.4 \\\n",
    "         + o37.loc[:,o37.columns!='Id']*0.05\n",
    "out = pd.concat([o31['Id'],ensemble],axis=1)\n",
    "out.to_csv('./output_38.csv',index=False)"
   ]
  },
  {
   "cell_type": "code",
   "execution_count": null,
   "metadata": {},
   "outputs": [],
   "source": []
  }
 ],
 "metadata": {
  "kernelspec": {
   "display_name": "Python 3",
   "language": "python",
   "name": "python3"
  },
  "language_info": {
   "codemirror_mode": {
    "name": "ipython",
    "version": 3
   },
   "file_extension": ".py",
   "mimetype": "text/x-python",
   "name": "python",
   "nbconvert_exporter": "python",
   "pygments_lexer": "ipython3",
   "version": "3.6.7"
  }
 },
 "nbformat": 4,
 "nbformat_minor": 2
}
